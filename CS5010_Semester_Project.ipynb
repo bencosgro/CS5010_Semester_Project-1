{
  "nbformat": 4,
  "nbformat_minor": 0,
  "metadata": {
    "colab": {
      "name": "CS5010_Semester_Project.ipynb",
      "provenance": [],
      "collapsed_sections": []
    },
    "kernelspec": {
      "name": "python3",
      "display_name": "Python 3"
    }
  },
  "cells": [
    {
      "cell_type": "code",
      "metadata": {
        "id": "4Mdkk0OF8ff9",
        "colab_type": "code",
        "colab": {
          "base_uri": "https://localhost:8080/",
          "height": 187
        },
        "outputId": "b6487438-cbfe-494f-8a28-373dcd222add"
      },
      "source": [
        "import pandas as pd\n",
        "counties = pd.read_html('https://www.newyork-demographics.com/counties_by_population')\n",
        "county_data=counties[0]\n",
        "county_data[\"County\"]=[county.replace(\" County\",\"\").strip() for county in county_data[\"County\"]]\n",
        "county_data[\"County\"]\n",
        "county_data = county_data[county_data.County.str.contains('United States Census') == False]\n",
        "county_data[\"County\"]\n",
        "county_data.info()\n",
        "\n",
        "\n",
        "\n",
        "\n",
        "\n",
        "\n"
      ],
      "execution_count": 40,
      "outputs": [
        {
          "output_type": "stream",
          "text": [
            "<class 'pandas.core.frame.DataFrame'>\n",
            "Int64Index: 62 entries, 0 to 61\n",
            "Data columns (total 3 columns):\n",
            " #   Column      Non-Null Count  Dtype \n",
            "---  ------      --------------  ----- \n",
            " 0   Rank        62 non-null     object\n",
            " 1   County      62 non-null     object\n",
            " 2   Population  62 non-null     object\n",
            "dtypes: object(3)\n",
            "memory usage: 1.9+ KB\n"
          ],
          "name": "stdout"
        }
      ]
    },
    {
      "cell_type": "code",
      "metadata": {
        "id": "P4n4oK2FbG13",
        "colab_type": "code",
        "colab": {}
      },
      "source": [
        "from google.colab import drive\n",
        "drive.mount('/content/drive')"
      ],
      "execution_count": null,
      "outputs": []
    },
    {
      "cell_type": "code",
      "metadata": {
        "id": "kyqPREGF-xXr",
        "colab_type": "code",
        "colab": {
          "base_uri": "https://localhost:8080/",
          "height": 204
        },
        "outputId": "40537b68-be58-4997-af63-904c539402bf"
      },
      "source": [
        "import pandas as pd\n",
        "data=pd.read_csv(\"unemp.csv\")\n",
        "data.head()\n"
      ],
      "execution_count": 41,
      "outputs": [
        {
          "output_type": "execute_result",
          "data": {
            "text/html": [
              "<div>\n",
              "<style scoped>\n",
              "    .dataframe tbody tr th:only-of-type {\n",
              "        vertical-align: middle;\n",
              "    }\n",
              "\n",
              "    .dataframe tbody tr th {\n",
              "        vertical-align: top;\n",
              "    }\n",
              "\n",
              "    .dataframe thead th {\n",
              "        text-align: right;\n",
              "    }\n",
              "</style>\n",
              "<table border=\"1\" class=\"dataframe\">\n",
              "  <thead>\n",
              "    <tr style=\"text-align: right;\">\n",
              "      <th></th>\n",
              "      <th>Year</th>\n",
              "      <th>Month</th>\n",
              "      <th>Region</th>\n",
              "      <th>County</th>\n",
              "      <th>Beneficiaries</th>\n",
              "      <th>Benefit Amounts (Dollars)</th>\n",
              "    </tr>\n",
              "  </thead>\n",
              "  <tbody>\n",
              "    <tr>\n",
              "      <th>0</th>\n",
              "      <td>2020</td>\n",
              "      <td>6</td>\n",
              "      <td>Capital</td>\n",
              "      <td>Albany</td>\n",
              "      <td>17,500</td>\n",
              "      <td>24,070,000</td>\n",
              "    </tr>\n",
              "    <tr>\n",
              "      <th>1</th>\n",
              "      <td>2020</td>\n",
              "      <td>6</td>\n",
              "      <td>Western New York</td>\n",
              "      <td>Allegany</td>\n",
              "      <td>2,200</td>\n",
              "      <td>2,680,000</td>\n",
              "    </tr>\n",
              "    <tr>\n",
              "      <th>2</th>\n",
              "      <td>2020</td>\n",
              "      <td>6</td>\n",
              "      <td>New York City</td>\n",
              "      <td>Bronx</td>\n",
              "      <td>145,400</td>\n",
              "      <td>249,000,000</td>\n",
              "    </tr>\n",
              "    <tr>\n",
              "      <th>3</th>\n",
              "      <td>2020</td>\n",
              "      <td>6</td>\n",
              "      <td>Southern Tier</td>\n",
              "      <td>Broome</td>\n",
              "      <td>11,900</td>\n",
              "      <td>13,890,000</td>\n",
              "    </tr>\n",
              "    <tr>\n",
              "      <th>4</th>\n",
              "      <td>2020</td>\n",
              "      <td>6</td>\n",
              "      <td>Western New York</td>\n",
              "      <td>Cattaraugus</td>\n",
              "      <td>5,500</td>\n",
              "      <td>6,680,000</td>\n",
              "    </tr>\n",
              "  </tbody>\n",
              "</table>\n",
              "</div>"
            ],
            "text/plain": [
              "   Year  Month  ... Beneficiaries  Benefit Amounts (Dollars) \n",
              "0  2020      6  ...        17,500                  24,070,000\n",
              "1  2020      6  ...         2,200                   2,680,000\n",
              "2  2020      6  ...       145,400                 249,000,000\n",
              "3  2020      6  ...        11,900                  13,890,000\n",
              "4  2020      6  ...         5,500                   6,680,000\n",
              "\n",
              "[5 rows x 6 columns]"
            ]
          },
          "metadata": {
            "tags": []
          },
          "execution_count": 41
        }
      ]
    },
    {
      "cell_type": "code",
      "metadata": {
        "id": "kN3V6PCDI3fj",
        "colab_type": "code",
        "colab": {}
      },
      "source": [
        "county_clean=pd.merge(county_data, data, how='inner', on='County', left_on=None, right_on=None,\n",
        "         left_index=False, right_index=False, sort=True,\n",
        "         suffixes=('_x', '_y'), copy=True, indicator=False,\n",
        "         validate=None)"
      ],
      "execution_count": 42,
      "outputs": []
    },
    {
      "cell_type": "code",
      "metadata": {
        "id": "TXciZ7zj_oMl",
        "colab_type": "code",
        "colab": {
          "base_uri": "https://localhost:8080/",
          "height": 459
        },
        "outputId": "9eb727b9-425f-440d-b15d-59fdf6987e19"
      },
      "source": [
        "county_clean.info()\n",
        "\n",
        "county_clean[\"Benefits per Beneficiary\"]=0 #county_clean.iloc[:,7]/county_clean.iloc[:,6] need to convert to int\n",
        "county_clean.head()"
      ],
      "execution_count": 44,
      "outputs": [
        {
          "output_type": "stream",
          "text": [
            "<class 'pandas.core.frame.DataFrame'>\n",
            "Int64Index: 14508 entries, 0 to 14507\n",
            "Data columns (total 8 columns):\n",
            " #   Column                       Non-Null Count  Dtype \n",
            "---  ------                       --------------  ----- \n",
            " 0   Rank                         14508 non-null  object\n",
            " 1   County                       14508 non-null  object\n",
            " 2   Population                   14508 non-null  object\n",
            " 3   Year                         14508 non-null  int64 \n",
            " 4   Month                        14508 non-null  int64 \n",
            " 5   Region                       14508 non-null  object\n",
            " 6   Beneficiaries                14508 non-null  object\n",
            " 7    Benefit Amounts (Dollars)   14508 non-null  object\n",
            "dtypes: int64(2), object(6)\n",
            "memory usage: 1020.1+ KB\n"
          ],
          "name": "stdout"
        },
        {
          "output_type": "execute_result",
          "data": {
            "text/html": [
              "<div>\n",
              "<style scoped>\n",
              "    .dataframe tbody tr th:only-of-type {\n",
              "        vertical-align: middle;\n",
              "    }\n",
              "\n",
              "    .dataframe tbody tr th {\n",
              "        vertical-align: top;\n",
              "    }\n",
              "\n",
              "    .dataframe thead th {\n",
              "        text-align: right;\n",
              "    }\n",
              "</style>\n",
              "<table border=\"1\" class=\"dataframe\">\n",
              "  <thead>\n",
              "    <tr style=\"text-align: right;\">\n",
              "      <th></th>\n",
              "      <th>Rank</th>\n",
              "      <th>County</th>\n",
              "      <th>Population</th>\n",
              "      <th>Year</th>\n",
              "      <th>Month</th>\n",
              "      <th>Region</th>\n",
              "      <th>Beneficiaries</th>\n",
              "      <th>Benefit Amounts (Dollars)</th>\n",
              "      <th>Benefits per Beneficiary</th>\n",
              "    </tr>\n",
              "  </thead>\n",
              "  <tbody>\n",
              "    <tr>\n",
              "      <th>0</th>\n",
              "      <td>14</td>\n",
              "      <td>Albany</td>\n",
              "      <td>305506</td>\n",
              "      <td>2020</td>\n",
              "      <td>6</td>\n",
              "      <td>Capital</td>\n",
              "      <td>17,500</td>\n",
              "      <td>24,070,000</td>\n",
              "      <td>0</td>\n",
              "    </tr>\n",
              "    <tr>\n",
              "      <th>1</th>\n",
              "      <td>14</td>\n",
              "      <td>Albany</td>\n",
              "      <td>305506</td>\n",
              "      <td>2020</td>\n",
              "      <td>5</td>\n",
              "      <td>Capital</td>\n",
              "      <td>16,900</td>\n",
              "      <td>20,690,000</td>\n",
              "      <td>0</td>\n",
              "    </tr>\n",
              "    <tr>\n",
              "      <th>2</th>\n",
              "      <td>14</td>\n",
              "      <td>Albany</td>\n",
              "      <td>305506</td>\n",
              "      <td>2020</td>\n",
              "      <td>4</td>\n",
              "      <td>Capital</td>\n",
              "      <td>13,300</td>\n",
              "      <td>15,920,000</td>\n",
              "      <td>0</td>\n",
              "    </tr>\n",
              "    <tr>\n",
              "      <th>3</th>\n",
              "      <td>14</td>\n",
              "      <td>Albany</td>\n",
              "      <td>305506</td>\n",
              "      <td>2020</td>\n",
              "      <td>3</td>\n",
              "      <td>Capital</td>\n",
              "      <td>4,700</td>\n",
              "      <td>4,020,000</td>\n",
              "      <td>0</td>\n",
              "    </tr>\n",
              "    <tr>\n",
              "      <th>4</th>\n",
              "      <td>14</td>\n",
              "      <td>Albany</td>\n",
              "      <td>305506</td>\n",
              "      <td>2020</td>\n",
              "      <td>2</td>\n",
              "      <td>Capital</td>\n",
              "      <td>2,100</td>\n",
              "      <td>2,350,000</td>\n",
              "      <td>0</td>\n",
              "    </tr>\n",
              "  </tbody>\n",
              "</table>\n",
              "</div>"
            ],
            "text/plain": [
              "  Rank  County  ...  Benefit Amounts (Dollars)   Benefits per Beneficiary\n",
              "0   14  Albany  ...                  24,070,000                         0\n",
              "1   14  Albany  ...                  20,690,000                         0\n",
              "2   14  Albany  ...                  15,920,000                         0\n",
              "3   14  Albany  ...                   4,020,000                         0\n",
              "4   14  Albany  ...                   2,350,000                         0\n",
              "\n",
              "[5 rows x 9 columns]"
            ]
          },
          "metadata": {
            "tags": []
          },
          "execution_count": 44
        }
      ]
    },
    {
      "cell_type": "code",
      "metadata": {
        "id": "AORuXN0q-_Hz",
        "colab_type": "code",
        "colab": {
          "base_uri": "https://localhost:8080/",
          "height": 238
        },
        "outputId": "48a131cc-4c7b-4982-fee9-31915649082a"
      },
      "source": [
        "data.info()"
      ],
      "execution_count": null,
      "outputs": [
        {
          "output_type": "stream",
          "text": [
            "<class 'pandas.core.frame.DataFrame'>\n",
            "RangeIndex: 14976 entries, 0 to 14975\n",
            "Data columns (total 6 columns):\n",
            " #   Column                       Non-Null Count  Dtype \n",
            "---  ------                       --------------  ----- \n",
            " 0   Year                         14976 non-null  int64 \n",
            " 1   Month                        14976 non-null  int64 \n",
            " 2   Region                       14976 non-null  object\n",
            " 3   County                       14976 non-null  object\n",
            " 4   Beneficiaries                14976 non-null  object\n",
            " 5    Benefit Amounts (Dollars)   14976 non-null  object\n",
            "dtypes: int64(2), object(4)\n",
            "memory usage: 702.1+ KB\n"
          ],
          "name": "stdout"
        }
      ]
    }
  ]
}